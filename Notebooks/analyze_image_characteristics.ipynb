{
 "cells": [
  {
   "cell_type": "markdown",
   "metadata": {},
   "source": [
    "# Looking for differences between digitial photos and screen cap images"
   ]
  },
  {
   "cell_type": "code",
   "execution_count": 1,
   "metadata": {},
   "outputs": [
    {
     "name": "stdout",
     "output_type": "stream",
     "text": [
      "tesseract 4.1.1\n",
      " leptonica-1.80.0\n",
      "  libgif 5.2.1 : libjpeg 9d : libpng 1.6.37 : libtiff 4.1.0 : zlib 1.2.11 : libwebp 1.1.0 : libopenjp2 2.3.1\n",
      " Found AVX2\n",
      " Found AVX\n",
      " Found FMA\n",
      " Found SSE\n"
     ]
    }
   ],
   "source": [
    "!tesseract -v"
   ]
  },
  {
   "cell_type": "code",
   "execution_count": 2,
   "metadata": {},
   "outputs": [
    {
     "name": "stdout",
     "output_type": "stream",
     "text": [
      "Requirement already satisfied: pip in /Library/Frameworks/Python.framework/Versions/3.8/lib/python3.8/site-packages (21.0.1)\n",
      "Requirement already satisfied: opencv-python in /Users/jk/Library/Python/3.8/lib/python/site-packages (4.5.1.48)\n",
      "Requirement already satisfied: numpy>=1.17.3 in /Library/Frameworks/Python.framework/Versions/3.8/lib/python3.8/site-packages (from opencv-python) (1.19.2)\n",
      "Requirement already satisfied: wget in /Library/Frameworks/Python.framework/Versions/3.8/lib/python3.8/site-packages (3.2)\n",
      "Requirement already satisfied: pytesseract in /Library/Frameworks/Python.framework/Versions/3.8/lib/python3.8/site-packages (0.3.7)\n",
      "Requirement already satisfied: Pillow in /Library/Frameworks/Python.framework/Versions/3.8/lib/python3.8/site-packages (from pytesseract) (8.0.1)\n"
     ]
    }
   ],
   "source": [
    "!pip install --upgrade pip\n",
    "!pip install --user --upgrade \"opencv-python\"\n",
    "!pip install --upgrade wget\n",
    "!pip install --upgrade pytesseract"
   ]
  },
  {
   "cell_type": "code",
   "execution_count": 3,
   "metadata": {},
   "outputs": [],
   "source": [
    "import os\n",
    "import wget\n",
    "import cv2 \n",
    "import numpy\n",
    "import time\n",
    "import uuid\n",
    "from matplotlib import pyplot\n",
    "import pytesseract"
   ]
  },
  {
   "cell_type": "code",
   "execution_count": 4,
   "metadata": {},
   "outputs": [
    {
     "name": "stdout",
     "output_type": "stream",
     "text": [
      "/Users/jk/DevelopmentEnvironment/Voice_Gateway_SOE\n"
     ]
    }
   ],
   "source": [
    "%cd ..\n",
    "import image_utils\n",
    "pyplot.rcParams['figure.dpi'] = 200"
   ]
  },
  {
   "cell_type": "code",
   "execution_count": 5,
   "metadata": {},
   "outputs": [],
   "source": [
    "def print_matrix(matrix, title):\n",
    "    print(title)\n",
    "    for row in matrix:\n",
    "        print(row)\n",
    "    print()"
   ]
  },
  {
   "cell_type": "code",
   "execution_count": 6,
   "metadata": {},
   "outputs": [],
   "source": [
    "def score_matrix(answer, key):\n",
    "    total_correct = 0\n",
    "    for row in range(0,9):\n",
    "        for column in range(0,9):\n",
    "            if answer[row][column] == key[row][column]:\n",
    "                total_correct += 1\n",
    "    return total_correct"
   ]
  },
  {
   "cell_type": "code",
   "execution_count": 7,
   "metadata": {},
   "outputs": [],
   "source": [
    "images = [\n",
    "    'IMG_1428-high.jpg',\n",
    "    'IMG_1428-low.jpg',\n",
    "    'IMG_1631-high.jpg',\n",
    "    'IMG_1758.jpg',\n",
    "    'IMG_1772.jpg',\n",
    "    'IMG_1773.jpg',\n",
    "    'IMG_1784.jpg',\n",
    "    'IMG_1758.png',\n",
    "    'sudoku2.png',\n",
    "    'Sudoku-2020-10-29.png',\n",
    "    'Sudoku_20200509.png',\n",
    "    'sudokupuzzler.26.jpg'\n",
    "]"
   ]
  },
  {
   "cell_type": "code",
   "execution_count": 8,
   "metadata": {},
   "outputs": [
    {
     "name": "stdout",
     "output_type": "stream",
     "text": [
      "Image: IMG_1428-high.jpg\n",
      "Shape: [4032, 3024]\n",
      "Size: 12192768\n",
      "Standard deviation of counts: 50936.403061808356\n",
      "Ratio of std/size: 4.18\n",
      "Standard deviation of averages: 0.41775914264757896\n",
      "\n",
      "Image: IMG_1428-low.jpg\n",
      "Shape: [4032, 3024]\n",
      "Size: 12192768\n",
      "Standard deviation of counts: 64565.007238465674\n",
      "Ratio of std/size: 5.30\n",
      "Standard deviation of averages: 0.5295352723718328\n",
      "\n",
      "Image: IMG_1631-high.jpg\n",
      "Shape: [3024, 3024]\n",
      "Size: 9144576\n",
      "Standard deviation of counts: 39057.9463793861\n",
      "Ratio of std/size: 4.27\n",
      "Standard deviation of averages: 0.4271159907182805\n",
      "\n",
      "Image: IMG_1758.jpg\n",
      "Shape: [4032, 3024]\n",
      "Size: 12192768\n",
      "Standard deviation of counts: 61670.083215357045\n",
      "Ratio of std/size: 5.06\n",
      "Standard deviation of averages: 0.5057923124212406\n",
      "\n",
      "Image: IMG_1772.jpg\n",
      "Shape: [1280, 960]\n",
      "Size: 1228800\n",
      "Standard deviation of counts: 4991.33921235699\n",
      "Ratio of std/size: 4.06\n",
      "Standard deviation of averages: 0.4061962249639478\n",
      "\n",
      "Image: IMG_1773.jpg\n",
      "Shape: [4032, 3024]\n",
      "Size: 12192768\n",
      "Standard deviation of counts: 48064.633609826626\n",
      "Ratio of std/size: 3.94\n",
      "Standard deviation of averages: 0.3942060868362838\n",
      "\n",
      "Image: IMG_1784.jpg\n",
      "Shape: [4032, 3024]\n",
      "Size: 12192768\n",
      "Standard deviation of counts: 19237.78552135419\n",
      "Ratio of std/size: 1.58\n",
      "Standard deviation of averages: 0.15778029665908672\n",
      "\n",
      "Image: IMG_1758.png\n",
      "Shape: [4032, 3024]\n",
      "Size: 12192768\n",
      "Standard deviation of counts: 62036.09802755469\n",
      "Ratio of std/size: 5.09\n",
      "Standard deviation of averages: 0.5087942133201804\n",
      "\n",
      "Image: sudoku2.png\n",
      "Shape: [956, 1024]\n",
      "Size: 978944\n",
      "Standard deviation of counts: 46462.558172969366\n",
      "Ratio of std/size: 47.46\n",
      "Standard deviation of averages: 4.746191628220753\n",
      "\n",
      "Image: Sudoku-2020-10-29.png\n",
      "Shape: [713, 750]\n",
      "Size: 534750\n",
      "Standard deviation of counts: 29782.153713300744\n",
      "Ratio of std/size: 55.69\n",
      "Standard deviation of averages: 5.569360208190883\n",
      "\n",
      "Image: Sudoku_20200509.png\n",
      "Shape: [1138, 1044]\n",
      "Size: 1188072\n",
      "Standard deviation of counts: 31333.7595104948\n",
      "Ratio of std/size: 26.37\n",
      "Standard deviation of averages: 2.637362004196278\n",
      "\n",
      "Image: sudokupuzzler.26.jpg\n",
      "Shape: [2534, 2527]\n",
      "Size: 6403418\n",
      "Standard deviation of counts: 360841.86096277623\n",
      "Ratio of std/size: 56.35\n",
      "Standard deviation of averages: 5.63514455815279\n",
      "\n"
     ]
    }
   ],
   "source": [
    "for image_name in images:\n",
    "    image_path = 'test/%s' % image_name\n",
    "    image = cv2.imread(image_path, cv2.IMREAD_GRAYSCALE)\n",
    "    print('Image: %s' % image_name)\n",
    "    print('Shape: [%s, %s]' % (image.shape[0], image.shape[1]))\n",
    "    print('Size: %s' % (image.shape[0]*image.shape[1]))\n",
    "\n",
    "    color_dist = numpy.histogram(image, bins=256)\n",
    "    total = color_dist[0].sum()\n",
    "    color_dist_avg = numpy.zeros(len(color_dist[0]))\n",
    "    for i in range(len(color_dist[0])):\n",
    "        color_dist_avg[i] = color_dist[0][i]*100/total\n",
    "    print('Standard deviation of counts: %s' % numpy.std(color_dist[0]))\n",
    "    print('Ratio of std/size: %.2f' % (numpy.std(color_dist[0])/(image.shape[0] * image.shape[1])*1000))\n",
    "    print('Standard deviation of averages: %s\\n' % numpy.std(color_dist_avg))\n",
    "    # print(color_dist[0])\n",
    "    # print('\\n')\n",
    "    # print(color_dist_avg)\n",
    "    # print('\\n')\n"
   ]
  }
 ],
 "metadata": {
  "kernelspec": {
   "display_name": "Python 3 (ipykernel)",
   "language": "python",
   "name": "python3"
  },
  "language_info": {
   "codemirror_mode": {
    "name": "ipython",
    "version": 3
   },
   "file_extension": ".py",
   "mimetype": "text/x-python",
   "name": "python",
   "nbconvert_exporter": "python",
   "pygments_lexer": "ipython3",
   "version": "3.8.2"
  }
 },
 "nbformat": 4,
 "nbformat_minor": 4
}
